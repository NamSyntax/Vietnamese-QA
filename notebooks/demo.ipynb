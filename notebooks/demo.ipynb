{
 "cells": [
  {
   "cell_type": "markdown",
   "id": "246edf64",
   "metadata": {},
   "source": [
    "# ---\n",
    "# title: Vietnamese QA Demo\n",
    "# author: NamSyntax\n",
    "# ---\n",
    "\n",
    "# ## 1. Cài đặt môi trường"
   ]
  },
  {
   "cell_type": "code",
   "execution_count": null,
   "id": "a67f130b",
   "metadata": {
    "vscode": {
     "languageId": "plaintext"
    }
   },
   "outputs": [],
   "source": [
    "!pip install -q -r ../requirements.txt"
   ]
  },
  {
   "cell_type": "markdown",
   "id": "0f90572f",
   "metadata": {},
   "source": [
    "# ## 2. Train model\n",
    "# (có thể tốn nhiều thời gian, nếu chỉ muốn demo inference thì bỏ qua bước này)"
   ]
  },
  {
   "cell_type": "code",
   "execution_count": null,
   "id": "6998e312",
   "metadata": {
    "vscode": {
     "languageId": "plaintext"
    }
   },
   "outputs": [],
   "source": [
    "%run ../src/train.py"
   ]
  },
  {
   "cell_type": "markdown",
   "id": "5cabb302",
   "metadata": {},
   "source": [
    "# ## 3. Evaluate model"
   ]
  },
  {
   "cell_type": "code",
   "execution_count": null,
   "id": "14fd871b",
   "metadata": {
    "vscode": {
     "languageId": "plaintext"
    }
   },
   "outputs": [],
   "source": [
    "%run ../src/eval.py"
   ]
  },
  {
   "cell_type": "markdown",
   "id": "5d0c8dd9",
   "metadata": {},
   "source": [
    "# ## 4. Inference (Gradio demo)"
   ]
  },
  {
   "cell_type": "code",
   "execution_count": null,
   "id": "7734fec3",
   "metadata": {
    "vscode": {
     "languageId": "plaintext"
    }
   },
   "outputs": [],
   "source": [
    "%run ../src/inference.py"
   ]
  }
 ],
 "metadata": {
  "language_info": {
   "name": "python"
  }
 },
 "nbformat": 4,
 "nbformat_minor": 5
}
